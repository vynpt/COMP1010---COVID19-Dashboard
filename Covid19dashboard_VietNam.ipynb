{
 "cells": [
  {
   "cell_type": "markdown",
   "metadata": {},
   "source": [
    "# Dashboard about covid 19 situation in Vietnam"
   ]
  },
  {
   "cell_type": "markdown",
   "metadata": {},
   "source": [
    "## Import libraries"
   ]
  },
  {
   "cell_type": "code",
   "execution_count": 36,
   "metadata": {},
   "outputs": [],
   "source": [
    "import pandas as pd\n",
    "import plotly.express as px\n",
    "import plotly.graph_objects as go\n",
    "import dash\n",
    "from dash.dependencies import Input, Output\n",
    "import dash_core_components as dcc\n",
    "import dash_html_components as html\n",
    "import dash_bootstrap_components as dbc\n",
    "\n",
    "app = dash.Dash(external_stylesheets=[dbc.themes.CYBORG])"
   ]
  },
  {
   "cell_type": "markdown",
   "metadata": {},
   "source": [
    "## Read and process data"
   ]
  },
  {
   "cell_type": "code",
   "execution_count": 37,
   "metadata": {},
   "outputs": [],
   "source": [
    "Cases_Deaths_URL = 'https://covid19.who.int/WHO-COVID-19-global-data.csv'\n",
    "Total_Stat_URL = 'https://covid19.who.int/WHO-COVID-19-global-table-data.csv'\n",
    "Vaccine_URL = 'https://covid19.who.int/who-data/vaccination-data.csv'\n",
    "\n",
    "Stat_CD = pd.read_csv(Cases_Deaths_URL, usecols=['Country','New_cases', 'New_deaths', 'Date_reported'])\n",
    "Stat_CD = Stat_CD[Stat_CD['Country']=='Viet Nam']\n",
    "\n",
    "Total = pd.read_csv(Total_Stat_URL)\n",
    "Total = Total.loc['Viet Nam']\n",
    "\n",
    "vaccine = pd.read_csv(Vaccine_URL)\n",
    "vaccine = vaccine[vaccine['COUNTRY'] == 'Viet Nam']\n",
    "vaccine = vaccine.reset_index()"
   ]
  },
  {
   "cell_type": "markdown",
   "metadata": {},
   "source": [
    "## Set up image, color"
   ]
  },
  {
   "cell_type": "code",
   "execution_count": 38,
   "metadata": {},
   "outputs": [],
   "source": [
    "image1 = 'https://d18lkz4dllo6v2.cloudfront.net/cumulus_uploads/entry/2020-04-06/COVID%20.jpg?w=660'\n",
    "image2 = \"https://www.sanofi.com.vn/-/media/Project/One-Sanofi-Web/Websites/Asia-Pacific/Sanofi-VN/Home/thong-tin-bao-chi/covid-19-nhan-manh-gia-tri-quan-trong-cua-viec-cham-soc-ban-than/Article-block-Covid-19.jpg?la=vi&hash=9763B0A5603D3FED373554950C0F6854\"\n",
    "colors = {\n",
    "    'Purple' : '#A427F2',\n",
    "    'Cyan': '#00FFFF',\n",
    "    'White' : '#FFFFFF',\n",
    "    'Blue' : '#0000FF',\n",
    "    'Silver' : '#C0C0C0',\n",
    "}"
   ]
  },
  {
   "cell_type": "markdown",
   "metadata": {},
   "source": [
    "## Page header"
   ]
  },
  {
   "cell_type": "code",
   "execution_count": 39,
   "metadata": {},
   "outputs": [],
   "source": [
    "team_member = [\n",
    "    dbc.Col(html.H6('Nguyen Phuong Thao Vy', style={'color' : colors['Blue']}), width='auto'),\n",
    "    dbc.Col(html.H6('Vu Duy Tung', style={'color' : colors['Blue']}), width='auto'),\n",
    "    dbc.Col(html.H6('Ta Viet Thang', style={'color' : colors['Blue']}), width='auto'),\n",
    "    dbc.Col(html.H6('Chau Minh Khai', style={'color' : colors['Blue']}), width='auto')\n",
    "]\n",
    "\n",
    "def generate_page_header():\n",
    "    header1 = dbc.Row(\n",
    "        [\n",
    "            dbc.Col(html.H4(\n",
    "                'Welcome to COMP1010 project',\n",
    "                style={'textAlign':'center', 'color':colors['Cyan']}\n",
    "            ))\n",
    "        ],\n",
    "    )\n",
    "\n",
    "    header2 = dbc.Row(\n",
    "        [\n",
    "            dbc.Col(html.H3(\n",
    "                'A Dashboard about Covid-19 Situation in Vietnam',\n",
    "                style={'textAlign':'center', 'color':colors['Cyan']}\n",
    "            ))\n",
    "        ],\n",
    "    )\n",
    "    header3 = dbc.Row(\n",
    "        team_member,\n",
    "        justify='center',\n",
    "        style={\n",
    "            'backgroundColor' : colors['Silver']\n",
    "        }\n",
    "    )\n",
    "    header = [header1, header2, header3]\n",
    "    return header"
   ]
  },
  {
   "cell_type": "markdown",
   "metadata": {},
   "source": [
    "## Enter your email"
   ]
  },
  {
   "cell_type": "code",
   "execution_count": 40,
   "metadata": {},
   "outputs": [],
   "source": [
    "def Input_email():\n",
    "    return html.Div(\n",
    "        [\n",
    "            dbc.Row(\n",
    "                [\n",
    "                    dbc.Col(html.H5(\n",
    "                        [\n",
    "                            \"Enter your email:   \",\n",
    "                            dcc.Input(id='my-input', value='Alibaba@vinuni.edu.vn', type='email')\n",
    "                        ],\n",
    "                        style={'textAlign':'center', 'color':colors['Purple']}\n",
    "                    )),\n",
    "                ]\n",
    "            ),\n",
    "            dbc.Row(\n",
    "                [\n",
    "                    dbc.Col(html.H5(id='my-output', style={'textAlign': 'center', 'color' : colors['Purple']}))\n",
    "                ]\n",
    "            ),\n",
    "\n",
    "        ]\n",
    "    )"
   ]
  },
  {
   "cell_type": "markdown",
   "metadata": {},
   "source": [
    "## Generate Cards for Total Cases and Total Deaths"
   ]
  },
  {
   "cell_type": "code",
   "execution_count": 41,
   "metadata": {},
   "outputs": [],
   "source": [
    "def Card_with_stat(name, image, num, color):\n",
    "    if( color == 'Cyan' ): BG = 'danger'\n",
    "    else: BG = 'warning'\n",
    "    card = dbc.Card(\n",
    "        [\n",
    "            dbc.CardImg(src=image, top=True),\n",
    "            dbc.CardBody(\n",
    "                [\n",
    "                    html.H3(\n",
    "                        name,\n",
    "                        style={\n",
    "                            'textAlign':'center',\n",
    "                            'color':colors[color]\n",
    "                        }\n",
    "                    ),\n",
    "                    html.H4(\n",
    "                        '{:,}'.format(num),\n",
    "                        style={\n",
    "                            'textAlign':'center',\n",
    "                            'color':colors[color]\n",
    "                        }\n",
    "                    ),\n",
    "                ]\n",
    "            ),\n",
    "        ],\n",
    "        style={'width' : '18rem'},\n",
    "        color=BG,\n",
    "        inverse='True'\n",
    "    )\n",
    "    return card\n",
    "\n",
    "def Generate_card():\n",
    "    return dbc.Row(\n",
    "        [\n",
    "            dbc.Col(Card_with_stat('Total cases', image1, Total['WHO Region'], 'Blue'), width='auto'),\n",
    "            dbc.Col(Card_with_stat('Total deaths', image2, Total['Cases - newly reported in last 24 hours'], 'Cyan'), width='auto'),\n",
    "        ],\n",
    "        align='center',\n",
    "        justify='center'\n",
    "    )\n"
   ]
  },
  {
   "cell_type": "markdown",
   "metadata": {},
   "source": [
    "## Generate table"
   ]
  },
  {
   "cell_type": "code",
   "execution_count": 42,
   "metadata": {},
   "outputs": [],
   "source": [
    "def Table():\n",
    "    new_vac = Stat_CD.iloc[-10:]\n",
    "    fig = go.Figure(data=[go.Table(\n",
    "        header=dict(values=list(new_vac[['Date_reported','New_cases','New_deaths']].columns),\n",
    "                    line_color='darkslategray',\n",
    "                    fill_color='royalblue',\n",
    "                    align='center',\n",
    "                    font=dict(color='white', size=17),\n",
    "                    height=35\n",
    "        ),\n",
    "        cells=dict(values=[new_vac.Date_reported, new_vac.New_cases, new_vac.New_deaths],\n",
    "                   line_color='darkslategray',\n",
    "                   fill_color='paleturquoise',\n",
    "                   align='center',\n",
    "                   font=dict(color='black', size=17),\n",
    "                   height=25\n",
    "        ))\n",
    "    ])\n",
    "    return fig\n",
    "\n",
    "def Generate_table():\n",
    "    return html.Div([\n",
    "        dcc.Graph(\n",
    "            id = 'Table',\n",
    "            figure = Table().update_layout(\n",
    "                template='plotly_dark',\n",
    "                plot_bgcolor='rgba(0, 0, 0, 0)',\n",
    "                paper_bgcolor='rgba(0, 0, 0, 0)',\n",
    "            )\n",
    "        )\n",
    "    ])\n"
   ]
  },
  {
   "cell_type": "markdown",
   "metadata": {},
   "source": [
    "## Generate line graph with button to change the status"
   ]
  },
  {
   "cell_type": "code",
   "execution_count": 43,
   "metadata": {},
   "outputs": [],
   "source": [
    "def check_list():\n",
    "    return dcc.RadioItems(\n",
    "        id='check_list',\n",
    "        options=[{'label': i, 'value': i} for i in ['New_cases', 'New_deaths']],\n",
    "        value='New_cases',\n",
    "        labelStyle={'display': 'block'},\n",
    "        style={\"padding\": \"10px\", \"max-width\": \"800px\", \"margin\": \"auto\"},\n",
    "    )\n",
    "\n",
    "def Cases_Deaths_LineGraph(cases_or_deaths, y_title):\n",
    "    fig = px.line(Stat_CD, x = Stat_CD.Date_reported, y = cases_or_deaths, title='Daily cases in Vietnam', height=500, color_discrete_sequence =['maroon'], markers=True)\n",
    "    fig.update_layout(title_x=0.5, xaxis_title=\"Date\", yaxis_title=y_title)\n",
    "    fig.update_layout(\n",
    "        template='plotly_dark',\n",
    "        paper_bgcolor='rgba(0, 0, 0, 0)',\n",
    "    )\n",
    "    return fig\n",
    "\n",
    "def graph1():\n",
    "    return dcc.Graph(id='graph1', figure=Cases_Deaths_LineGraph(Stat_CD.New_cases, 'Number of cases'))"
   ]
  },
  {
   "cell_type": "markdown",
   "metadata": {},
   "source": [
    "## Generate bar chart"
   ]
  },
  {
   "cell_type": "code",
   "execution_count": 44,
   "metadata": {},
   "outputs": [],
   "source": [
    "def Cases_Deaths_BarChart():\n",
    "    fig = px.bar(Stat_CD, x = Stat_CD.Date_reported, y = [Stat_CD.New_deaths, Stat_CD.New_cases] * 719, barmode='group', height=500)\n",
    "    fig.update_layout(\n",
    "        template='plotly_dark',\n",
    "        paper_bgcolor='rgba(0, 0, 0, 0)',\n",
    "    )\n",
    "    return fig\n",
    "\n",
    "def bar_chart():\n",
    "    return dcc.Graph(id='bar_chart', figure=Cases_Deaths_BarChart())"
   ]
  },
  {
   "cell_type": "markdown",
   "metadata": {},
   "source": [
    "## Generate pie chart"
   ]
  },
  {
   "cell_type": "code",
   "execution_count": 45,
   "metadata": {},
   "outputs": [],
   "source": [
    "def Vaccine_Pie_Chart():\n",
    "    Full_Dose = vaccine.loc[0]['PERSONS_FULLY_VACCINATED']\n",
    "    OnePlus_Dose = vaccine.loc[0]['PERSONS_VACCINATED_1PLUS_DOSE']\n",
    "\n",
    "    valuee = [Full_Dose, OnePlus_Dose - Full_Dose]\n",
    "    namee = ['People who got 1 dose', 'People fully vaccinated']\n",
    "\n",
    "    fig = px.pie(values=valuee, names=namee)\n",
    "    return fig\n",
    "\n",
    "def Generate_Pie_Chart():\n",
    "    return dcc.Graph(\n",
    "        figure=Vaccine_Pie_Chart().update_layout(\n",
    "            template='plotly_dark',\n",
    "            plot_bgcolor='rgba(0, 0, 0, 0)',\n",
    "            paper_bgcolor='rgba(0, 0, 0, 0)',\n",
    "        )\n",
    "    )"
   ]
  },
  {
   "cell_type": "markdown",
   "metadata": {},
   "source": [
    "## Generate card for vaccine information"
   ]
  },
  {
   "cell_type": "code",
   "execution_count": 46,
   "metadata": {},
   "outputs": [],
   "source": [
    "def Card_Vaccine(header, text):\n",
    "    if header == 'Total Vaccination':\n",
    "        COLOR = \"danger\"\n",
    "    if header == 'Vaccine used':\n",
    "        COLOR = \"success\"\n",
    "    if header == 'Number vaccine types used':\n",
    "        COLOR = \"warning\"\n",
    "\n",
    "    card_head_style = {'textAlign' : 'center', 'fontSize' : '150%'}\n",
    "\n",
    "    if header == 'Vaccine used':\n",
    "        card_body_style = {'textAlign' : 'center', 'fontSize' : '40%'}\n",
    "    else:\n",
    "        card_body_style = {'textAlign': 'center', 'fontSize': '150%'}\n",
    "\n",
    "    return dbc.Card(\n",
    "        [\n",
    "            dbc.CardHeader(header , style=card_head_style),\n",
    "            dbc.CardBody([\n",
    "                html.H5(text),\n",
    "            ], style=card_body_style)\n",
    "        ],\n",
    "        color=COLOR,\n",
    "        inverse=True\n",
    "    )"
   ]
  },
  {
   "cell_type": "markdown",
   "metadata": {},
   "source": [
    "## Show all vaccine data"
   ]
  },
  {
   "cell_type": "code",
   "execution_count": 47,
   "metadata": {},
   "outputs": [],
   "source": [
    "def Vaccine_Info():\n",
    "    return html.Div([\n",
    "        dbc.Row(\n",
    "            [\n",
    "                dbc.Col(Generate_Pie_Chart(), width={'size': 12})\n",
    "            ],\n",
    "            align='center',\n",
    "            justify='center'\n",
    "        ),\n",
    "        dbc.Row(\n",
    "            dbc.Col(\n",
    "                dbc.CardGroup(\n",
    "                    [\n",
    "                        Card_Vaccine(\n",
    "                            header='Total Vaccination',\n",
    "                            text='{:,}'.format(vaccine.loc[0]['TOTAL_VACCINATIONS'])\n",
    "                        ),\n",
    "                        Card_Vaccine(\n",
    "                            header='Vaccine used',\n",
    "                            text=vaccine.loc[0]['VACCINES_USED']\n",
    "                        ),\n",
    "                        Card_Vaccine(\n",
    "                            header='Number vaccine types used',\n",
    "                            text=str(vaccine.loc[0]['NUMBER_VACCINES_TYPES_USED'])\n",
    "                        )\n",
    "                    ]\n",
    "                )\n",
    "            )\n",
    "        )\n",
    "    ])"
   ]
  },
  {
   "cell_type": "markdown",
   "metadata": {},
   "source": [
    "## Generate cards for read/watch news"
   ]
  },
  {
   "cell_type": "code",
   "execution_count": 48,
   "metadata": {},
   "outputs": [],
   "source": [
    "def New(link, title, text, button, iimage):\n",
    "    return dbc.Card(\n",
    "        [\n",
    "            dbc.CardImg(src = iimage, top = True),\n",
    "            dbc.CardBody(\n",
    "                [\n",
    "                    html.H5(title),\n",
    "                    html.H6(text),\n",
    "                    dbc.Button(button, href=link, color='primary')\n",
    "                ]\n",
    "            )\n",
    "        ],\n",
    "        color='warning',\n",
    "        outline=True,\n",
    "    )\n",
    "\n",
    "def News_with_card():\n",
    "    return dbc.Row(\n",
    "        [\n",
    "            dbc.Col(New(\n",
    "                link='https://www.youtube.com/watch?v=wT2m3kljcSU',\n",
    "                title='Fake news',\n",
    "                text='The explosion of coranavirus also leads to the raise of fake new on social medias',\n",
    "                button='Lets watch',\n",
    "                iimage='https://image.vietnamlawmagazine.vn/uploadvietnamlaw/2021/7/23/fake_newsjpg172654812.jpg'\n",
    "            ), width={'size':3}),\n",
    "            dbc.Col(New(\n",
    "                link='https://www.youtube.com/watch?v=qQUdy5ZXAqo',\n",
    "                title='Deadliest pandemics in History (till 2020)',\n",
    "                text='Plagues and epidemics have ravaged humanity throughout its existence, often changing the course of history',\n",
    "                button='Lets see',\n",
    "                iimage='https://i.ytimg.com/vi/qQUdy5ZXAqo/maxresdefault.jpg'\n",
    "            ), width={'size':3}),\n",
    "            dbc.Col(New(\n",
    "                link='https://www.usnews.com/news/health-news/articles/2021-12-10/pandemic-mystery-scientists-focus-on-covids-animal-origins?fbclid=IwAR0dUFwC6fUZsLL4WnJquaR6ysYADavPEMKNcri_oOkyMMHfluQixS7e7nA',\n",
    "                title='Scientists Focus on COVID Animal Origins',\n",
    "                text='Most scientists believe it emerged in the wild and jumped from bats to humans, either directly or through another animal. Others theorize it escaped from a Chinese lab.',\n",
    "                button='Read this',\n",
    "                iimage='https://encrypted-tbn0.gstatic.com/images?q=tbn:ANd9GcRQyk2DAWarOLrYFlcwYxApLJj09WZZsIc_dQ&usqp=CAU'\n",
    "            ), width={'size':3}),\n",
    "            dbc.Col(New(\n",
    "                link='https://e.vnexpress.net/news/news/vietnam-falls-to-bottom-of-bloomberg-covid-resilience-ranking-4407673.html?fbclid=IwAR1xsPiXIPV-9hnCuW2NUMXPyOH0BjWpZCcikd8XaTRzZZmGc3if0rVTTBM',\n",
    "                title='Viet Nam',\n",
    "                text='Vietnam falls to bottom of Bloomberg Covid resilience ranking',\n",
    "                button='Why',\n",
    "                iimage='https://file1.dangcongsan.vn/data/0/images/2021/06/14/chamsocytepv/covid-khauhieu.jpg?dpi=150&quality=100&w=680'\n",
    "            ), width={'size':3}),\n",
    "        ],\n",
    "        justify='center',\n",
    "        align='center'\n",
    "    )"
   ]
  },
  {
   "cell_type": "markdown",
   "metadata": {},
   "source": [
    "## Final layout"
   ]
  },
  {
   "cell_type": "code",
   "execution_count": 49,
   "metadata": {},
   "outputs": [],
   "source": [
    "def Title(sentence):\n",
    "    return dbc.Row(\n",
    "        [\n",
    "            dbc.Col(html.H5(\n",
    "                sentence,\n",
    "                style={'color': colors['Purple']}), width='auto')\n",
    "        ],\n",
    "        align='center',\n",
    "        justify='center'\n",
    "    )\n",
    "\n",
    "def generate_layout():\n",
    "    header = generate_page_header()\n",
    "    layout = dbc.Container(\n",
    "        [\n",
    "            header[0],\n",
    "            header[1],\n",
    "            header[2],\n",
    "            html.Br(),\n",
    "            Input_email(), html.Hr(),\n",
    "            Generate_card(), html.Hr(),\n",
    "            Title('Statistics for the numbers of new cases and new deaths'),\n",
    "            dbc.Row(\n",
    "                [\n",
    "                    dbc.Col(Generate_table())\n",
    "                ],\n",
    "            ),\n",
    "            html.Hr(),\n",
    "            Title('The fluctuates in the numbers of new cases and new deaths'),\n",
    "            dbc.Row(\n",
    "                [\n",
    "                    dbc.Col(check_list(), width='auto'),\n",
    "                    dbc.Col(graph1())\n",
    "                ],\n",
    "                align='center'\n",
    "            ),\n",
    "            html.Hr(),\n",
    "            Title('Bar chart to compare between new cases and new deaths'),\n",
    "            dbc.Row(\n",
    "                [\n",
    "                    dbc.Col(bar_chart()),\n",
    "                ],\n",
    "                align='center',\n",
    "                justify='center'\n",
    "            ),\n",
    "            html.Hr(),\n",
    "            Title('Vaccine Information'),\n",
    "            Vaccine_Info(),\n",
    "            html.Hr(),\n",
    "            Title('Read/Watch more about Covid-19'), html.Br(),\n",
    "            News_with_card(),\n",
    "        ],\n",
    "        fluid=True,\n",
    "    )\n",
    "\n",
    "    return layout"
   ]
  },
  {
   "cell_type": "markdown",
   "metadata": {},
   "source": [
    "## Make your website interactive"
   ]
  },
  {
   "cell_type": "code",
   "execution_count": 50,
   "metadata": {},
   "outputs": [],
   "source": [
    "@app.callback(\n",
    "    [Output('my-output', 'children'),\n",
    "     Output('graph1', 'figure')],\n",
    "    [Input('my-input', 'value'),\n",
    "    Input('check_list', 'value')]\n",
    ")\n",
    "def update_output_div(input_value1, input_value2):\n",
    "    your_name = ''\n",
    "    for i in input_value1:\n",
    "        if i == '@': break\n",
    "        your_name += i\n",
    "\n",
    "    if input_value2 == 'New_cases':\n",
    "        fig = Cases_Deaths_LineGraph(Stat_CD.New_cases, 'Number of cases')\n",
    "    else:\n",
    "        fig = Cases_Deaths_LineGraph(Stat_CD.New_deaths, 'Number of deaths')\n",
    "\n",
    "    return f'WELCOME \"{your_name.upper()}\" TO OUR WEBSITE', fig"
   ]
  },
  {
   "cell_type": "markdown",
   "metadata": {},
   "source": [
    "## Run the server"
   ]
  },
  {
   "cell_type": "code",
   "execution_count": null,
   "metadata": {},
   "outputs": [
    {
     "name": "stdout",
     "output_type": "stream",
     "text": [
      "Dash is running on http://127.0.0.1:8050/\n",
      "\n",
      "Dash is running on http://127.0.0.1:8050/\n",
      "\n",
      "Dash is running on http://127.0.0.1:8050/\n",
      "\n",
      " * Serving Flask app \"__main__\" (lazy loading)\n",
      " * Environment: production\n",
      "\u001b[31m   WARNING: This is a development server. Do not use it in a production deployment.\u001b[0m\n",
      "\u001b[2m   Use a production WSGI server instead.\u001b[0m\n",
      " * Debug mode: off\n"
     ]
    }
   ],
   "source": [
    "app.layout = generate_layout()\n",
    "\n",
    "if __name__ == \"__main__\":\n",
    "    app.run_server()"
   ]
  }
 ],
 "metadata": {
  "kernelspec": {
   "display_name": "Python 3 (ipykernel)",
   "language": "python",
   "name": "python3"
  },
  "language_info": {
   "codemirror_mode": {
    "name": "ipython",
    "version": 3
   },
   "file_extension": ".py",
   "mimetype": "text/x-python",
   "name": "python",
   "nbconvert_exporter": "python",
   "pygments_lexer": "ipython3",
   "version": "3.9.7"
  }
 },
 "nbformat": 4,
 "nbformat_minor": 2
}
